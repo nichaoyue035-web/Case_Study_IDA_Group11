{
 "cells": [
  {
   "cell_type": "markdown",
   "id": "6493f81c-14ad-4625-adba-899f28c9dc7d",
   "metadata": {},
   "source": [
    "## Task 2: Data Storage in Separate Files\n",
    "\n",
    "In database design and large-scale data analysis, it is usually better to store data in several related tables/files instead of one single flat table. The main advantages are:\n",
    "\n",
    "1. **Reduced Redundancy**  \n",
    "   - Information does not need to be repeated across different rows.  \n",
    "   - Saves storage space and avoids inconsistencies.\n",
    "\n",
    "2. **Improved Consistency and Integrity**  \n",
    "   - When some information changes (e.g., manufacturer name), it only needs to be updated once.  \n",
    "   - Easier to enforce integrity constraints (primary keys, foreign keys).\n",
    "\n",
    "3. **Better Query and Management Efficiency**  \n",
    "   - For a specific task, only the relevant table needs to be loaded instead of a huge dataset.  \n",
    "   - Databases can optimize queries using indexes more effectively.\n",
    "\n",
    "4. **Scalability and Flexibility**  \n",
    "   - New types of data can be added by creating new tables without redesigning the entire structure.  \n",
    "   - Different teams can maintain separate tables more easily.\n",
    "\n",
    "5. **Security and Access Control (optional)**  \n",
    "   - Access permissions can be granted to different tables, improving data security.\n",
    "\n",
    "---\n",
    "\n",
    "**Database structure name:**  \n",
    "This table structure represents a **relational database schema**, which follows the principle of **normalization**: splitting data into multiple related tables connected through primary and foreign keys.\n"
   ]
  },
  {
   "cell_type": "code",
   "execution_count": null,
   "id": "52227273-b326-43e0-bb8e-7d0db3529832",
   "metadata": {},
   "outputs": [],
   "source": []
  }
 ],
 "metadata": {
  "kernelspec": {
   "display_name": "Python 3 (ipykernel)",
   "language": "python",
   "name": "python3"
  },
  "language_info": {
   "codemirror_mode": {
    "name": "ipython",
    "version": 3
   },
   "file_extension": ".py",
   "mimetype": "text/x-python",
   "name": "python",
   "nbconvert_exporter": "python",
   "pygments_lexer": "ipython3",
   "version": "3.12.7"
  }
 },
 "nbformat": 4,
 "nbformat_minor": 5
}
