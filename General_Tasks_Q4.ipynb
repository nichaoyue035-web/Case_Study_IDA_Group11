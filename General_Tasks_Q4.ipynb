{
 "cells": [
  {
   "cell_type": "markdown",
   "id": "6f5996e7-86f0-42fa-a421-2e68a81f1b98",
   "metadata": {},
   "source": [
    "### Task4 – Attributes of the Registration Table\n",
    "\n",
    "**Data file**: `Zulassungen_alle_Fahrzeuge.csv`  \n",
    "**Row count**: 3,204,104  \n",
    "**Time range (Zulassung)**: 2009-01-01 ~ 2016-12-12  \n",
    "\n",
    "| Column       | Inferred Type | Meaning / Suggestion                                                                 | Missing   | Unique   | Example values                  | Range/Time                  |\n",
    "|--------------|--------------|-------------------------------------------------------------------------------------|-----------|----------|--------------------------------|-----------------------------|\n",
    "| Unnamed: 0   | int          | Export-generated row index, can be ignored in analysis.                              | 0         | 3,204,104 | 408097, 408098, 1              | -                           |\n",
    "| IDNummer     | string       | Identifier, used for linking/positioning, not recommended as a feature.              | 0         | 3,204,104 | 11-1-11-1, 11-1-11-2, 12-1-12-1 | -                           |\n",
    "| Gemeinden    | string       | Registration location (categorical feature), can be used for encoding.               | 0         | 5,764    | DRESDEN, LEIPZIG, DORTMUND      | -                           |\n",
    "| Zulassung    | datetime     | Registration date, can derive features like year/month/quarter/seasonality, etc.     | 1,992,990 | 824      | 2009-01-01, 2009-02-01, 2009-05-01 | 2009-01-01 ~ 2016-12-12 |\n"
   ]
  },
  {
   "cell_type": "code",
   "execution_count": null,
   "id": "aff9b2a6-6dc3-4458-b9e8-1c5cbed1a3cf",
   "metadata": {},
   "outputs": [],
   "source": []
  }
 ],
 "metadata": {
  "kernelspec": {
   "display_name": "Python 3 (ipykernel)",
   "language": "python",
   "name": "python3"
  },
  "language_info": {
   "codemirror_mode": {
    "name": "ipython",
    "version": 3
   },
   "file_extension": ".py",
   "mimetype": "text/x-python",
   "name": "python",
   "nbconvert_exporter": "python",
   "pygments_lexer": "ipython3",
   "version": "3.12.7"
  }
 },
 "nbformat": 4,
 "nbformat_minor": 5
}
