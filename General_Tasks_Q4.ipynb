{
 "cells": [
  {
   "cell_type": "markdown",
   "id": "e653569e-28a1-40c5-a106-ce8474ba0cd8",
   "metadata": {},
   "source": [
    "| 属性名 (Spalte)       | 数据类型 (Datentyp) | 特点说明 |\n",
    "|----------------------|---------------------|----------|\n",
    "| Fahrzeug_ID          | INT                 | 整数类型，适合存放唯一的车辆编号，可用于主键 (Primary Key)。 |\n",
    "| Kennzeichen          | VARCHAR(20)         | 可变长度字符串，存放车牌号，长度因地区不同而不一样。 |\n",
    "| Ort                  | VARCHAR(50)         | 文本类型，存放车辆注册地城市名。 |\n",
    "| Datum                | DATE                | 日期类型，存放注册日期，支持日期运算（比如比较先后）。 |\n",
    "| Fahrgestellnummer    | CHAR(17)            | 固定长度字符串（17位），因为车架号总是固定长度。 |\n",
    "| Motorleistung        | INT                 | 整数类型，用于存放功率（比如 kW），便于数值计算。 |\n",
    "| Kraftstoffart        | VARCHAR(20)         | 文本类型，存放燃料类别（如 Benzin, Diesel, Elektro）。 |\n",
    "| Is_Active            | BOOLEAN             | 布尔值，用来表示车辆是否仍然在册（true/false）。 |\n"
   ]
  },
  {
   "cell_type": "code",
   "execution_count": null,
   "id": "b5b448e4-0a21-4530-b575-107641866fe3",
   "metadata": {},
   "outputs": [],
   "source": []
  }
 ],
 "metadata": {
  "kernelspec": {
   "display_name": "Python 3 (ipykernel)",
   "language": "python",
   "name": "python3"
  },
  "language_info": {
   "codemirror_mode": {
    "name": "ipython",
    "version": 3
   },
   "file_extension": ".py",
   "mimetype": "text/x-python",
   "name": "python",
   "nbconvert_exporter": "python",
   "pygments_lexer": "ipython3",
   "version": "3.12.7"
  }
 },
 "nbformat": 4,
 "nbformat_minor": 5
}
